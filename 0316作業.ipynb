{
  "nbformat": 4,
  "nbformat_minor": 0,
  "metadata": {
    "colab": {
      "name": "0316作業.ipynb",
      "provenance": [],
      "collapsed_sections": [],
      "include_colab_link": true
    },
    "kernelspec": {
      "name": "ir",
      "display_name": "R"
    }
  },
  "cells": [
    {
      "cell_type": "markdown",
      "metadata": {
        "id": "view-in-github",
        "colab_type": "text"
      },
      "source": [
        "<a href=\"https://colab.research.google.com/github/S10955015/bigdata/blob/main/0316%E4%BD%9C%E6%A5%AD.ipynb\" target=\"_parent\"><img src=\"https://colab.research.google.com/assets/colab-badge.svg\" alt=\"Open In Colab\"/></a>"
      ]
    },
    {
      "cell_type": "code",
      "metadata": {
        "id": "XLaJh9FtGk3U"
      },
      "source": [
        "install.packages(\"jsonlite\")"
      ],
      "execution_count": null,
      "outputs": []
    },
    {
      "cell_type": "code",
      "metadata": {
        "id": "nKuk2bCKUIxB"
      },
      "source": [
        "library(\"jsonlite\")"
      ],
      "execution_count": null,
      "outputs": []
    },
    {
      "cell_type": "code",
      "metadata": {
        "colab": {
          "base_uri": "https://localhost:8080/"
        },
        "id": "8MFy6z6jUVoM",
        "outputId": "75b54764-aeaf-4169-9fa0-ff9d2e3acf55"
      },
      "source": [
        "babydata<-jsonlite::fromJSON(\"https://ws.yunlin.gov.tw/001/Upload/539/opendata/15369/1096/61b84dbc-5fe5-4569-8b94-4eebf1deef71.json\")\r\n",
        "str(babydata)"
      ],
      "execution_count": 3,
      "outputs": [
        {
          "output_type": "stream",
          "text": [
            "'data.frame':\t7 obs. of  15 variables:\n",
            " $ 性質              : chr  \"私立\" \"私立\" \"私立\" \"私立\" ...\n",
            " $ 資源彙整機關      : chr  \"宜蘭縣政府\" \"基隆市政府\" \"新竹市政府\" \"臺中市政府\" ...\n",
            " $ 辦理單位          : chr  \"財團法人宜蘭縣私立神愛兒童之家\" \"財團法人基隆市私立基督教信心社會福利慈善事業基金會附設大光兒少之家\" \"財團法人新竹市私立新竹仁愛兒童之家\" \"財團法人大甲媽社會福利基金會附設臺中市私立鎮瀾兒童家園\" ...\n",
            " $ 成立日期          : chr  \"19761231\" \"20070511\" \"19880630\" \"20081205\" ...\n",
            " $ 立案文號          : chr  \"宜府社福字第007號\" \"基府社福貳字0960136023號\" \"社福字第27159號\" \"府社幼字第0970359224號\" ...\n",
            " $ 負責人            : chr  \"史可堯\" \"陳美芳\" \"陳玉焜\" \"鄭銘坤\" ...\n",
            " $ 連絡電話          : chr  \"(03)9514652\" \"(02)34010560\" \"(03)5221574\" \"(04)26763788\" ...\n",
            " $ 傳真              : chr  \"(03)9510191\" \"(02)34011567\" \"(03)5617208\" \"(04)26763755\" ...\n",
            " $ 地址              : chr  \"宜蘭縣冬山鄉得安村5鄰大埤二路189巷36號\" \"基隆市安樂區興寮里16鄰基金一路112巷110弄14號\" \"新竹市東區高峰里24鄰高峰路306巷65號\" \"臺中市大甲區武曲里1鄰橫圳街163號\" ...\n",
            " $ 核准收托或安置人數: chr  \"45\" \"23\" \"35\" \"140\" ...\n",
            " $ 相關網址          : chr  \"http://www.thehomeofgodslove.com.tw/\" \"http://www.cfcf.org.tw/\" \"http://www.rch.org.tw/\" \"www.dajiama.org.tw/children_home\" ...\n",
            " $ X坐標             : chr  \"323825.24\" \"322092.303\" \"247768.89\" \"210943.737\" ...\n",
            " $ Y坐標             : chr  \"2726676.2\" \"2781510.351\" \"2741398.01\" \"2694543.219\" ...\n",
            " $ 備註              : chr  \"\" \"\" \"\" \"\" ...\n",
            " $ 最後更新時間      : chr  \"20201103\" \"20201103\" \"20201103\" \"20201103\" ...\n"
          ],
          "name": "stdout"
        }
      ]
    },
    {
      "cell_type": "code",
      "metadata": {
        "colab": {
          "base_uri": "https://localhost:8080/",
          "height": 1000
        },
        "id": "CHBqKEWYVGKC",
        "outputId": "dbb1868b-59c2-4075-8cf9-214faeccca62"
      },
      "source": [
        "head(babydata)"
      ],
      "execution_count": 5,
      "outputs": [
        {
          "output_type": "display_data",
          "data": {
            "text/plain": [
              "  性質 資源彙整機關\n",
              "1 私立 宜蘭縣政府  \n",
              "2 私立 基隆市政府  \n",
              "3 私立 新竹市政府  \n",
              "4 私立 臺中市政府  \n",
              "5 私立 雲林縣政府  \n",
              "6 私立 嘉義市政府  \n",
              "  辦理單位                                                           成立日期\n",
              "1 財團法人宜蘭縣私立神愛兒童之家                                     19761231\n",
              "2 財團法人基隆市私立基督教信心社會福利慈善事業基金會附設大光兒少之家 20070511\n",
              "3 財團法人新竹市私立新竹仁愛兒童之家                                 19880630\n",
              "4 財團法人大甲媽社會福利基金會附設臺中市私立鎮瀾兒童家園             20081205\n",
              "5 財團法人雲林縣私立信義育幼院                                       19791216\n",
              "6 財團法人嘉義市私立修緣育幼院                                       19960807\n",
              "  立案文號                 負責人 連絡電話     傳真        \n",
              "1 宜府社福字第007號        史可堯 (03)9514652  (03)9510191 \n",
              "2 基府社福貳字0960136023號 陳美芳 (02)34010560 (02)34011567\n",
              "3 社福字第27159號          陳玉焜 (03)5221574  (03)5617208 \n",
              "4 府社幼字第0970359224號   鄭銘坤 (04)26763788 (04)26763755\n",
              "5 社福字第935421號         廖使文 (05)5955836  (05)5950026 \n",
              "6 嘉市府社福字第60219號    盧宗明 (05)2355695  (05)2865929 \n",
              "  地址                                         核准收托或安置人數\n",
              "1 宜蘭縣冬山鄉得安村5鄰大埤二路189巷36號       45                \n",
              "2 基隆市安樂區興寮里16鄰基金一路112巷110弄14號 23                \n",
              "3 新竹市東區高峰里24鄰高峰路306巷65號          35                \n",
              "4 臺中市大甲區武曲里1鄰橫圳街163號             140               \n",
              "5 雲林縣斗南鎮將軍里7鄰將軍188號               93                \n",
              "6 嘉義市西區西平里10鄰永春二街30號             30                \n",
              "  相關網址                             X坐標      Y坐標       備註 最後更新時間\n",
              "1 http://www.thehomeofgodslove.com.tw/ 323825.24  2726676.2        20201103    \n",
              "2 http://www.cfcf.org.tw/              322092.303 2781510.351      20201103    \n",
              "3 http://www.rch.org.tw/               247768.89  2741398.01       20201103    \n",
              "4 www.dajiama.org.tw/children_home     210943.737 2694543.219      20201103    \n",
              "5 http://www.xinyi.org.tw/             199327.129 2618623.948      20201103    \n",
              "6 http://www.showlife.org.tw/          191378.747 2597327.607      20201103    "
            ],
            "text/latex": "A data.frame: 6 × 15\n\\begin{tabular}{r|lllllllllllllll}\n  & 性質 & 資源彙整機關 & 辦理單位 & 成立日期 & 立案文號 & 負責人 & 連絡電話 & 傳真 & 地址 & 核准收托或安置人數 & 相關網址 & X坐標 & Y坐標 & 備註 & 最後更新時間\\\\\n  & <chr> & <chr> & <chr> & <chr> & <chr> & <chr> & <chr> & <chr> & <chr> & <chr> & <chr> & <chr> & <chr> & <chr> & <chr>\\\\\n\\hline\n\t1 & 私立 & 宜蘭縣政府 & 財團法人宜蘭縣私立神愛兒童之家                                     & 19761231 & 宜府社福字第007號        & 史可堯 & (03)9514652  & (03)9510191  & 宜蘭縣冬山鄉得安村5鄰大埤二路189巷36號       & 45  & http://www.thehomeofgodslove.com.tw/ & 323825.24  & 2726676.2   &  & 20201103\\\\\n\t2 & 私立 & 基隆市政府 & 財團法人基隆市私立基督教信心社會福利慈善事業基金會附設大光兒少之家 & 20070511 & 基府社福貳字0960136023號 & 陳美芳 & (02)34010560 & (02)34011567 & 基隆市安樂區興寮里16鄰基金一路112巷110弄14號 & 23  & http://www.cfcf.org.tw/              & 322092.303 & 2781510.351 &  & 20201103\\\\\n\t3 & 私立 & 新竹市政府 & 財團法人新竹市私立新竹仁愛兒童之家                                 & 19880630 & 社福字第27159號          & 陳玉焜 & (03)5221574  & (03)5617208  & 新竹市東區高峰里24鄰高峰路306巷65號          & 35  & http://www.rch.org.tw/               & 247768.89  & 2741398.01  &  & 20201103\\\\\n\t4 & 私立 & 臺中市政府 & 財團法人大甲媽社會福利基金會附設臺中市私立鎮瀾兒童家園             & 20081205 & 府社幼字第0970359224號   & 鄭銘坤 & (04)26763788 & (04)26763755 & 臺中市大甲區武曲里1鄰橫圳街163號             & 140 & www.dajiama.org.tw/children\\_home     & 210943.737 & 2694543.219 &  & 20201103\\\\\n\t5 & 私立 & 雲林縣政府 & 財團法人雲林縣私立信義育幼院                                       & 19791216 & 社福字第935421號         & 廖使文 & (05)5955836  & (05)5950026  & 雲林縣斗南鎮將軍里7鄰將軍188號               & 93  & http://www.xinyi.org.tw/             & 199327.129 & 2618623.948 &  & 20201103\\\\\n\t6 & 私立 & 嘉義市政府 & 財團法人嘉義市私立修緣育幼院                                       & 19960807 & 嘉市府社福字第60219號    & 盧宗明 & (05)2355695  & (05)2865929  & 嘉義市西區西平里10鄰永春二街30號             & 30  & http://www.showlife.org.tw/          & 191378.747 & 2597327.607 &  & 20201103\\\\\n\\end{tabular}\n",
            "text/markdown": "\nA data.frame: 6 × 15\n\n| <!--/--> | 性質 &lt;chr&gt; | 資源彙整機關 &lt;chr&gt; | 辦理單位 &lt;chr&gt; | 成立日期 &lt;chr&gt; | 立案文號 &lt;chr&gt; | 負責人 &lt;chr&gt; | 連絡電話 &lt;chr&gt; | 傳真 &lt;chr&gt; | 地址 &lt;chr&gt; | 核准收托或安置人數 &lt;chr&gt; | 相關網址 &lt;chr&gt; | X坐標 &lt;chr&gt; | Y坐標 &lt;chr&gt; | 備註 &lt;chr&gt; | 最後更新時間 &lt;chr&gt; |\n|---|---|---|---|---|---|---|---|---|---|---|---|---|---|---|---|\n| 1 | 私立 | 宜蘭縣政府 | 財團法人宜蘭縣私立神愛兒童之家                                     | 19761231 | 宜府社福字第007號        | 史可堯 | (03)9514652  | (03)9510191  | 宜蘭縣冬山鄉得安村5鄰大埤二路189巷36號       | 45  | http://www.thehomeofgodslove.com.tw/ | 323825.24  | 2726676.2   | <!----> | 20201103 |\n| 2 | 私立 | 基隆市政府 | 財團法人基隆市私立基督教信心社會福利慈善事業基金會附設大光兒少之家 | 20070511 | 基府社福貳字0960136023號 | 陳美芳 | (02)34010560 | (02)34011567 | 基隆市安樂區興寮里16鄰基金一路112巷110弄14號 | 23  | http://www.cfcf.org.tw/              | 322092.303 | 2781510.351 | <!----> | 20201103 |\n| 3 | 私立 | 新竹市政府 | 財團法人新竹市私立新竹仁愛兒童之家                                 | 19880630 | 社福字第27159號          | 陳玉焜 | (03)5221574  | (03)5617208  | 新竹市東區高峰里24鄰高峰路306巷65號          | 35  | http://www.rch.org.tw/               | 247768.89  | 2741398.01  | <!----> | 20201103 |\n| 4 | 私立 | 臺中市政府 | 財團法人大甲媽社會福利基金會附設臺中市私立鎮瀾兒童家園             | 20081205 | 府社幼字第0970359224號   | 鄭銘坤 | (04)26763788 | (04)26763755 | 臺中市大甲區武曲里1鄰橫圳街163號             | 140 | www.dajiama.org.tw/children_home     | 210943.737 | 2694543.219 | <!----> | 20201103 |\n| 5 | 私立 | 雲林縣政府 | 財團法人雲林縣私立信義育幼院                                       | 19791216 | 社福字第935421號         | 廖使文 | (05)5955836  | (05)5950026  | 雲林縣斗南鎮將軍里7鄰將軍188號               | 93  | http://www.xinyi.org.tw/             | 199327.129 | 2618623.948 | <!----> | 20201103 |\n| 6 | 私立 | 嘉義市政府 | 財團法人嘉義市私立修緣育幼院                                       | 19960807 | 嘉市府社福字第60219號    | 盧宗明 | (05)2355695  | (05)2865929  | 嘉義市西區西平里10鄰永春二街30號             | 30  | http://www.showlife.org.tw/          | 191378.747 | 2597327.607 | <!----> | 20201103 |\n\n",
            "text/html": [
              "<table class=\"dataframe\">\n",
              "<caption>A data.frame: 6 × 15</caption>\n",
              "<thead>\n",
              "\t<tr><th></th><th scope=col>性質</th><th scope=col>資源彙整機關</th><th scope=col>辦理單位</th><th scope=col>成立日期</th><th scope=col>立案文號</th><th scope=col>負責人</th><th scope=col>連絡電話</th><th scope=col>傳真</th><th scope=col>地址</th><th scope=col>核准收托或安置人數</th><th scope=col>相關網址</th><th scope=col>X坐標</th><th scope=col>Y坐標</th><th scope=col>備註</th><th scope=col>最後更新時間</th></tr>\n",
              "\t<tr><th></th><th scope=col>&lt;chr&gt;</th><th scope=col>&lt;chr&gt;</th><th scope=col>&lt;chr&gt;</th><th scope=col>&lt;chr&gt;</th><th scope=col>&lt;chr&gt;</th><th scope=col>&lt;chr&gt;</th><th scope=col>&lt;chr&gt;</th><th scope=col>&lt;chr&gt;</th><th scope=col>&lt;chr&gt;</th><th scope=col>&lt;chr&gt;</th><th scope=col>&lt;chr&gt;</th><th scope=col>&lt;chr&gt;</th><th scope=col>&lt;chr&gt;</th><th scope=col>&lt;chr&gt;</th><th scope=col>&lt;chr&gt;</th></tr>\n",
              "</thead>\n",
              "<tbody>\n",
              "\t<tr><th scope=row>1</th><td>私立</td><td>宜蘭縣政府</td><td>財團法人宜蘭縣私立神愛兒童之家                                    </td><td>19761231</td><td>宜府社福字第007號       </td><td>史可堯</td><td>(03)9514652 </td><td>(03)9510191 </td><td>宜蘭縣冬山鄉得安村5鄰大埤二路189巷36號      </td><td>45 </td><td>http://www.thehomeofgodslove.com.tw/</td><td>323825.24 </td><td>2726676.2  </td><td></td><td>20201103</td></tr>\n",
              "\t<tr><th scope=row>2</th><td>私立</td><td>基隆市政府</td><td>財團法人基隆市私立基督教信心社會福利慈善事業基金會附設大光兒少之家</td><td>20070511</td><td>基府社福貳字0960136023號</td><td>陳美芳</td><td>(02)34010560</td><td>(02)34011567</td><td>基隆市安樂區興寮里16鄰基金一路112巷110弄14號</td><td>23 </td><td>http://www.cfcf.org.tw/             </td><td>322092.303</td><td>2781510.351</td><td></td><td>20201103</td></tr>\n",
              "\t<tr><th scope=row>3</th><td>私立</td><td>新竹市政府</td><td>財團法人新竹市私立新竹仁愛兒童之家                                </td><td>19880630</td><td>社福字第27159號         </td><td>陳玉焜</td><td>(03)5221574 </td><td>(03)5617208 </td><td>新竹市東區高峰里24鄰高峰路306巷65號         </td><td>35 </td><td>http://www.rch.org.tw/              </td><td>247768.89 </td><td>2741398.01 </td><td></td><td>20201103</td></tr>\n",
              "\t<tr><th scope=row>4</th><td>私立</td><td>臺中市政府</td><td>財團法人大甲媽社會福利基金會附設臺中市私立鎮瀾兒童家園            </td><td>20081205</td><td>府社幼字第0970359224號  </td><td>鄭銘坤</td><td>(04)26763788</td><td>(04)26763755</td><td>臺中市大甲區武曲里1鄰橫圳街163號            </td><td>140</td><td>www.dajiama.org.tw/children_home    </td><td>210943.737</td><td>2694543.219</td><td></td><td>20201103</td></tr>\n",
              "\t<tr><th scope=row>5</th><td>私立</td><td>雲林縣政府</td><td>財團法人雲林縣私立信義育幼院                                      </td><td>19791216</td><td>社福字第935421號        </td><td>廖使文</td><td>(05)5955836 </td><td>(05)5950026 </td><td>雲林縣斗南鎮將軍里7鄰將軍188號              </td><td>93 </td><td>http://www.xinyi.org.tw/            </td><td>199327.129</td><td>2618623.948</td><td></td><td>20201103</td></tr>\n",
              "\t<tr><th scope=row>6</th><td>私立</td><td>嘉義市政府</td><td>財團法人嘉義市私立修緣育幼院                                      </td><td>19960807</td><td>嘉市府社福字第60219號   </td><td>盧宗明</td><td>(05)2355695 </td><td>(05)2865929 </td><td>嘉義市西區西平里10鄰永春二街30號            </td><td>30 </td><td>http://www.showlife.org.tw/         </td><td>191378.747</td><td>2597327.607</td><td></td><td>20201103</td></tr>\n",
              "</tbody>\n",
              "</table>\n"
            ]
          },
          "metadata": {
            "tags": []
          }
        }
      ]
    },
    {
      "cell_type": "code",
      "metadata": {
        "colab": {
          "base_uri": "https://localhost:8080/",
          "height": 1000
        },
        "id": "8i3EDYdcVlFm",
        "outputId": "2ab540ab-a727-4894-bf86-87b94eae9349"
      },
      "source": [
        "head(babydata, n=5)"
      ],
      "execution_count": 6,
      "outputs": [
        {
          "output_type": "display_data",
          "data": {
            "text/plain": [
              "  性質 資源彙整機關\n",
              "1 私立 宜蘭縣政府  \n",
              "2 私立 基隆市政府  \n",
              "3 私立 新竹市政府  \n",
              "4 私立 臺中市政府  \n",
              "5 私立 雲林縣政府  \n",
              "  辦理單位                                                           成立日期\n",
              "1 財團法人宜蘭縣私立神愛兒童之家                                     19761231\n",
              "2 財團法人基隆市私立基督教信心社會福利慈善事業基金會附設大光兒少之家 20070511\n",
              "3 財團法人新竹市私立新竹仁愛兒童之家                                 19880630\n",
              "4 財團法人大甲媽社會福利基金會附設臺中市私立鎮瀾兒童家園             20081205\n",
              "5 財團法人雲林縣私立信義育幼院                                       19791216\n",
              "  立案文號                 負責人 連絡電話     傳真        \n",
              "1 宜府社福字第007號        史可堯 (03)9514652  (03)9510191 \n",
              "2 基府社福貳字0960136023號 陳美芳 (02)34010560 (02)34011567\n",
              "3 社福字第27159號          陳玉焜 (03)5221574  (03)5617208 \n",
              "4 府社幼字第0970359224號   鄭銘坤 (04)26763788 (04)26763755\n",
              "5 社福字第935421號         廖使文 (05)5955836  (05)5950026 \n",
              "  地址                                         核准收托或安置人數\n",
              "1 宜蘭縣冬山鄉得安村5鄰大埤二路189巷36號       45                \n",
              "2 基隆市安樂區興寮里16鄰基金一路112巷110弄14號 23                \n",
              "3 新竹市東區高峰里24鄰高峰路306巷65號          35                \n",
              "4 臺中市大甲區武曲里1鄰橫圳街163號             140               \n",
              "5 雲林縣斗南鎮將軍里7鄰將軍188號               93                \n",
              "  相關網址                             X坐標      Y坐標       備註 最後更新時間\n",
              "1 http://www.thehomeofgodslove.com.tw/ 323825.24  2726676.2        20201103    \n",
              "2 http://www.cfcf.org.tw/              322092.303 2781510.351      20201103    \n",
              "3 http://www.rch.org.tw/               247768.89  2741398.01       20201103    \n",
              "4 www.dajiama.org.tw/children_home     210943.737 2694543.219      20201103    \n",
              "5 http://www.xinyi.org.tw/             199327.129 2618623.948      20201103    "
            ],
            "text/latex": "A data.frame: 5 × 15\n\\begin{tabular}{r|lllllllllllllll}\n  & 性質 & 資源彙整機關 & 辦理單位 & 成立日期 & 立案文號 & 負責人 & 連絡電話 & 傳真 & 地址 & 核准收托或安置人數 & 相關網址 & X坐標 & Y坐標 & 備註 & 最後更新時間\\\\\n  & <chr> & <chr> & <chr> & <chr> & <chr> & <chr> & <chr> & <chr> & <chr> & <chr> & <chr> & <chr> & <chr> & <chr> & <chr>\\\\\n\\hline\n\t1 & 私立 & 宜蘭縣政府 & 財團法人宜蘭縣私立神愛兒童之家                                     & 19761231 & 宜府社福字第007號        & 史可堯 & (03)9514652  & (03)9510191  & 宜蘭縣冬山鄉得安村5鄰大埤二路189巷36號       & 45  & http://www.thehomeofgodslove.com.tw/ & 323825.24  & 2726676.2   &  & 20201103\\\\\n\t2 & 私立 & 基隆市政府 & 財團法人基隆市私立基督教信心社會福利慈善事業基金會附設大光兒少之家 & 20070511 & 基府社福貳字0960136023號 & 陳美芳 & (02)34010560 & (02)34011567 & 基隆市安樂區興寮里16鄰基金一路112巷110弄14號 & 23  & http://www.cfcf.org.tw/              & 322092.303 & 2781510.351 &  & 20201103\\\\\n\t3 & 私立 & 新竹市政府 & 財團法人新竹市私立新竹仁愛兒童之家                                 & 19880630 & 社福字第27159號          & 陳玉焜 & (03)5221574  & (03)5617208  & 新竹市東區高峰里24鄰高峰路306巷65號          & 35  & http://www.rch.org.tw/               & 247768.89  & 2741398.01  &  & 20201103\\\\\n\t4 & 私立 & 臺中市政府 & 財團法人大甲媽社會福利基金會附設臺中市私立鎮瀾兒童家園             & 20081205 & 府社幼字第0970359224號   & 鄭銘坤 & (04)26763788 & (04)26763755 & 臺中市大甲區武曲里1鄰橫圳街163號             & 140 & www.dajiama.org.tw/children\\_home     & 210943.737 & 2694543.219 &  & 20201103\\\\\n\t5 & 私立 & 雲林縣政府 & 財團法人雲林縣私立信義育幼院                                       & 19791216 & 社福字第935421號         & 廖使文 & (05)5955836  & (05)5950026  & 雲林縣斗南鎮將軍里7鄰將軍188號               & 93  & http://www.xinyi.org.tw/             & 199327.129 & 2618623.948 &  & 20201103\\\\\n\\end{tabular}\n",
            "text/markdown": "\nA data.frame: 5 × 15\n\n| <!--/--> | 性質 &lt;chr&gt; | 資源彙整機關 &lt;chr&gt; | 辦理單位 &lt;chr&gt; | 成立日期 &lt;chr&gt; | 立案文號 &lt;chr&gt; | 負責人 &lt;chr&gt; | 連絡電話 &lt;chr&gt; | 傳真 &lt;chr&gt; | 地址 &lt;chr&gt; | 核准收托或安置人數 &lt;chr&gt; | 相關網址 &lt;chr&gt; | X坐標 &lt;chr&gt; | Y坐標 &lt;chr&gt; | 備註 &lt;chr&gt; | 最後更新時間 &lt;chr&gt; |\n|---|---|---|---|---|---|---|---|---|---|---|---|---|---|---|---|\n| 1 | 私立 | 宜蘭縣政府 | 財團法人宜蘭縣私立神愛兒童之家                                     | 19761231 | 宜府社福字第007號        | 史可堯 | (03)9514652  | (03)9510191  | 宜蘭縣冬山鄉得安村5鄰大埤二路189巷36號       | 45  | http://www.thehomeofgodslove.com.tw/ | 323825.24  | 2726676.2   | <!----> | 20201103 |\n| 2 | 私立 | 基隆市政府 | 財團法人基隆市私立基督教信心社會福利慈善事業基金會附設大光兒少之家 | 20070511 | 基府社福貳字0960136023號 | 陳美芳 | (02)34010560 | (02)34011567 | 基隆市安樂區興寮里16鄰基金一路112巷110弄14號 | 23  | http://www.cfcf.org.tw/              | 322092.303 | 2781510.351 | <!----> | 20201103 |\n| 3 | 私立 | 新竹市政府 | 財團法人新竹市私立新竹仁愛兒童之家                                 | 19880630 | 社福字第27159號          | 陳玉焜 | (03)5221574  | (03)5617208  | 新竹市東區高峰里24鄰高峰路306巷65號          | 35  | http://www.rch.org.tw/               | 247768.89  | 2741398.01  | <!----> | 20201103 |\n| 4 | 私立 | 臺中市政府 | 財團法人大甲媽社會福利基金會附設臺中市私立鎮瀾兒童家園             | 20081205 | 府社幼字第0970359224號   | 鄭銘坤 | (04)26763788 | (04)26763755 | 臺中市大甲區武曲里1鄰橫圳街163號             | 140 | www.dajiama.org.tw/children_home     | 210943.737 | 2694543.219 | <!----> | 20201103 |\n| 5 | 私立 | 雲林縣政府 | 財團法人雲林縣私立信義育幼院                                       | 19791216 | 社福字第935421號         | 廖使文 | (05)5955836  | (05)5950026  | 雲林縣斗南鎮將軍里7鄰將軍188號               | 93  | http://www.xinyi.org.tw/             | 199327.129 | 2618623.948 | <!----> | 20201103 |\n\n",
            "text/html": [
              "<table class=\"dataframe\">\n",
              "<caption>A data.frame: 5 × 15</caption>\n",
              "<thead>\n",
              "\t<tr><th></th><th scope=col>性質</th><th scope=col>資源彙整機關</th><th scope=col>辦理單位</th><th scope=col>成立日期</th><th scope=col>立案文號</th><th scope=col>負責人</th><th scope=col>連絡電話</th><th scope=col>傳真</th><th scope=col>地址</th><th scope=col>核准收托或安置人數</th><th scope=col>相關網址</th><th scope=col>X坐標</th><th scope=col>Y坐標</th><th scope=col>備註</th><th scope=col>最後更新時間</th></tr>\n",
              "\t<tr><th></th><th scope=col>&lt;chr&gt;</th><th scope=col>&lt;chr&gt;</th><th scope=col>&lt;chr&gt;</th><th scope=col>&lt;chr&gt;</th><th scope=col>&lt;chr&gt;</th><th scope=col>&lt;chr&gt;</th><th scope=col>&lt;chr&gt;</th><th scope=col>&lt;chr&gt;</th><th scope=col>&lt;chr&gt;</th><th scope=col>&lt;chr&gt;</th><th scope=col>&lt;chr&gt;</th><th scope=col>&lt;chr&gt;</th><th scope=col>&lt;chr&gt;</th><th scope=col>&lt;chr&gt;</th><th scope=col>&lt;chr&gt;</th></tr>\n",
              "</thead>\n",
              "<tbody>\n",
              "\t<tr><th scope=row>1</th><td>私立</td><td>宜蘭縣政府</td><td>財團法人宜蘭縣私立神愛兒童之家                                    </td><td>19761231</td><td>宜府社福字第007號       </td><td>史可堯</td><td>(03)9514652 </td><td>(03)9510191 </td><td>宜蘭縣冬山鄉得安村5鄰大埤二路189巷36號      </td><td>45 </td><td>http://www.thehomeofgodslove.com.tw/</td><td>323825.24 </td><td>2726676.2  </td><td></td><td>20201103</td></tr>\n",
              "\t<tr><th scope=row>2</th><td>私立</td><td>基隆市政府</td><td>財團法人基隆市私立基督教信心社會福利慈善事業基金會附設大光兒少之家</td><td>20070511</td><td>基府社福貳字0960136023號</td><td>陳美芳</td><td>(02)34010560</td><td>(02)34011567</td><td>基隆市安樂區興寮里16鄰基金一路112巷110弄14號</td><td>23 </td><td>http://www.cfcf.org.tw/             </td><td>322092.303</td><td>2781510.351</td><td></td><td>20201103</td></tr>\n",
              "\t<tr><th scope=row>3</th><td>私立</td><td>新竹市政府</td><td>財團法人新竹市私立新竹仁愛兒童之家                                </td><td>19880630</td><td>社福字第27159號         </td><td>陳玉焜</td><td>(03)5221574 </td><td>(03)5617208 </td><td>新竹市東區高峰里24鄰高峰路306巷65號         </td><td>35 </td><td>http://www.rch.org.tw/              </td><td>247768.89 </td><td>2741398.01 </td><td></td><td>20201103</td></tr>\n",
              "\t<tr><th scope=row>4</th><td>私立</td><td>臺中市政府</td><td>財團法人大甲媽社會福利基金會附設臺中市私立鎮瀾兒童家園            </td><td>20081205</td><td>府社幼字第0970359224號  </td><td>鄭銘坤</td><td>(04)26763788</td><td>(04)26763755</td><td>臺中市大甲區武曲里1鄰橫圳街163號            </td><td>140</td><td>www.dajiama.org.tw/children_home    </td><td>210943.737</td><td>2694543.219</td><td></td><td>20201103</td></tr>\n",
              "\t<tr><th scope=row>5</th><td>私立</td><td>雲林縣政府</td><td>財團法人雲林縣私立信義育幼院                                      </td><td>19791216</td><td>社福字第935421號        </td><td>廖使文</td><td>(05)5955836 </td><td>(05)5950026 </td><td>雲林縣斗南鎮將軍里7鄰將軍188號              </td><td>93 </td><td>http://www.xinyi.org.tw/            </td><td>199327.129</td><td>2618623.948</td><td></td><td>20201103</td></tr>\n",
              "</tbody>\n",
              "</table>\n"
            ]
          },
          "metadata": {
            "tags": []
          }
        }
      ]
    },
    {
      "cell_type": "code",
      "metadata": {
        "colab": {
          "base_uri": "https://localhost:8080/",
          "height": 1000
        },
        "id": "r6DL0RdvVvFT",
        "outputId": "b2879889-b2cc-4686-ed1b-eb2638917322"
      },
      "source": [
        "tail(babydata, n=5)"
      ],
      "execution_count": 7,
      "outputs": [
        {
          "output_type": "display_data",
          "data": {
            "text/plain": [
              "  性質 資源彙整機關 辦理單位                                              \n",
              "3 私立 新竹市政府   財團法人新竹市私立新竹仁愛兒童之家                    \n",
              "4 私立 臺中市政府   財團法人大甲媽社會福利基金會附設臺中市私立鎮瀾兒童家園\n",
              "5 私立 雲林縣政府   財團法人雲林縣私立信義育幼院                          \n",
              "6 私立 嘉義市政府   財團法人嘉義市私立修緣育幼院                          \n",
              "7 私立 臺東縣政府   財團法人私立臺東基督教阿尼色弗兒童之家                \n",
              "  成立日期 立案文號               負責人 連絡電話     傳真        \n",
              "3 19880630 社福字第27159號        陳玉焜 (03)5221574  (03)5617208 \n",
              "4 20081205 府社幼字第0970359224號 鄭銘坤 (04)26763788 (04)26763755\n",
              "5 19791216 社福字第935421號       廖使文 (05)5955836  (05)5950026 \n",
              "6 19960807 嘉市府社福字第60219號  盧宗明 (05)2355695  (05)2865929 \n",
              "7 19800108 府民社字第77646號      呂立漢 (089)223194  (089)227641 \n",
              "  地址                                核准收托或安置人數\n",
              "3 新竹市東區高峰里24鄰高峰路306巷65號 35                \n",
              "4 臺中市大甲區武曲里1鄰橫圳街163號    140               \n",
              "5 雲林縣斗南鎮將軍里7鄰將軍188號      93                \n",
              "6 嘉義市西區西平里10鄰永春二街30號    30                \n",
              "7 臺東縣卑南鄉賓朗村7鄰賓朗路260號    80                \n",
              "  相關網址                         X坐標      Y坐標       備註 最後更新時間\n",
              "3 http://www.rch.org.tw/           247768.89  2741398.01       20201103    \n",
              "4 www.dajiama.org.tw/children_home 210943.737 2694543.219      20201103    \n",
              "5 http://www.xinyi.org.tw/         199327.129 2618623.948      20201103    \n",
              "6 http://www.showlife.org.tw/      191378.747 2597327.607      20201103    \n",
              "7 http://www.kidsalive.org.tw/     260040.62  2522046.85       20201103    "
            ],
            "text/latex": "A data.frame: 5 × 15\n\\begin{tabular}{r|lllllllllllllll}\n  & 性質 & 資源彙整機關 & 辦理單位 & 成立日期 & 立案文號 & 負責人 & 連絡電話 & 傳真 & 地址 & 核准收托或安置人數 & 相關網址 & X坐標 & Y坐標 & 備註 & 最後更新時間\\\\\n  & <chr> & <chr> & <chr> & <chr> & <chr> & <chr> & <chr> & <chr> & <chr> & <chr> & <chr> & <chr> & <chr> & <chr> & <chr>\\\\\n\\hline\n\t3 & 私立 & 新竹市政府 & 財團法人新竹市私立新竹仁愛兒童之家                     & 19880630 & 社福字第27159號        & 陳玉焜 & (03)5221574  & (03)5617208  & 新竹市東區高峰里24鄰高峰路306巷65號 & 35  & http://www.rch.org.tw/           & 247768.89  & 2741398.01  &  & 20201103\\\\\n\t4 & 私立 & 臺中市政府 & 財團法人大甲媽社會福利基金會附設臺中市私立鎮瀾兒童家園 & 20081205 & 府社幼字第0970359224號 & 鄭銘坤 & (04)26763788 & (04)26763755 & 臺中市大甲區武曲里1鄰橫圳街163號    & 140 & www.dajiama.org.tw/children\\_home & 210943.737 & 2694543.219 &  & 20201103\\\\\n\t5 & 私立 & 雲林縣政府 & 財團法人雲林縣私立信義育幼院                           & 19791216 & 社福字第935421號       & 廖使文 & (05)5955836  & (05)5950026  & 雲林縣斗南鎮將軍里7鄰將軍188號      & 93  & http://www.xinyi.org.tw/         & 199327.129 & 2618623.948 &  & 20201103\\\\\n\t6 & 私立 & 嘉義市政府 & 財團法人嘉義市私立修緣育幼院                           & 19960807 & 嘉市府社福字第60219號  & 盧宗明 & (05)2355695  & (05)2865929  & 嘉義市西區西平里10鄰永春二街30號    & 30  & http://www.showlife.org.tw/      & 191378.747 & 2597327.607 &  & 20201103\\\\\n\t7 & 私立 & 臺東縣政府 & 財團法人私立臺東基督教阿尼色弗兒童之家                 & 19800108 & 府民社字第77646號      & 呂立漢 & (089)223194  & (089)227641  & 臺東縣卑南鄉賓朗村7鄰賓朗路260號    & 80  & http://www.kidsalive.org.tw/     & 260040.62  & 2522046.85  &  & 20201103\\\\\n\\end{tabular}\n",
            "text/markdown": "\nA data.frame: 5 × 15\n\n| <!--/--> | 性質 &lt;chr&gt; | 資源彙整機關 &lt;chr&gt; | 辦理單位 &lt;chr&gt; | 成立日期 &lt;chr&gt; | 立案文號 &lt;chr&gt; | 負責人 &lt;chr&gt; | 連絡電話 &lt;chr&gt; | 傳真 &lt;chr&gt; | 地址 &lt;chr&gt; | 核准收托或安置人數 &lt;chr&gt; | 相關網址 &lt;chr&gt; | X坐標 &lt;chr&gt; | Y坐標 &lt;chr&gt; | 備註 &lt;chr&gt; | 最後更新時間 &lt;chr&gt; |\n|---|---|---|---|---|---|---|---|---|---|---|---|---|---|---|---|\n| 3 | 私立 | 新竹市政府 | 財團法人新竹市私立新竹仁愛兒童之家                     | 19880630 | 社福字第27159號        | 陳玉焜 | (03)5221574  | (03)5617208  | 新竹市東區高峰里24鄰高峰路306巷65號 | 35  | http://www.rch.org.tw/           | 247768.89  | 2741398.01  | <!----> | 20201103 |\n| 4 | 私立 | 臺中市政府 | 財團法人大甲媽社會福利基金會附設臺中市私立鎮瀾兒童家園 | 20081205 | 府社幼字第0970359224號 | 鄭銘坤 | (04)26763788 | (04)26763755 | 臺中市大甲區武曲里1鄰橫圳街163號    | 140 | www.dajiama.org.tw/children_home | 210943.737 | 2694543.219 | <!----> | 20201103 |\n| 5 | 私立 | 雲林縣政府 | 財團法人雲林縣私立信義育幼院                           | 19791216 | 社福字第935421號       | 廖使文 | (05)5955836  | (05)5950026  | 雲林縣斗南鎮將軍里7鄰將軍188號      | 93  | http://www.xinyi.org.tw/         | 199327.129 | 2618623.948 | <!----> | 20201103 |\n| 6 | 私立 | 嘉義市政府 | 財團法人嘉義市私立修緣育幼院                           | 19960807 | 嘉市府社福字第60219號  | 盧宗明 | (05)2355695  | (05)2865929  | 嘉義市西區西平里10鄰永春二街30號    | 30  | http://www.showlife.org.tw/      | 191378.747 | 2597327.607 | <!----> | 20201103 |\n| 7 | 私立 | 臺東縣政府 | 財團法人私立臺東基督教阿尼色弗兒童之家                 | 19800108 | 府民社字第77646號      | 呂立漢 | (089)223194  | (089)227641  | 臺東縣卑南鄉賓朗村7鄰賓朗路260號    | 80  | http://www.kidsalive.org.tw/     | 260040.62  | 2522046.85  | <!----> | 20201103 |\n\n",
            "text/html": [
              "<table class=\"dataframe\">\n",
              "<caption>A data.frame: 5 × 15</caption>\n",
              "<thead>\n",
              "\t<tr><th></th><th scope=col>性質</th><th scope=col>資源彙整機關</th><th scope=col>辦理單位</th><th scope=col>成立日期</th><th scope=col>立案文號</th><th scope=col>負責人</th><th scope=col>連絡電話</th><th scope=col>傳真</th><th scope=col>地址</th><th scope=col>核准收托或安置人數</th><th scope=col>相關網址</th><th scope=col>X坐標</th><th scope=col>Y坐標</th><th scope=col>備註</th><th scope=col>最後更新時間</th></tr>\n",
              "\t<tr><th></th><th scope=col>&lt;chr&gt;</th><th scope=col>&lt;chr&gt;</th><th scope=col>&lt;chr&gt;</th><th scope=col>&lt;chr&gt;</th><th scope=col>&lt;chr&gt;</th><th scope=col>&lt;chr&gt;</th><th scope=col>&lt;chr&gt;</th><th scope=col>&lt;chr&gt;</th><th scope=col>&lt;chr&gt;</th><th scope=col>&lt;chr&gt;</th><th scope=col>&lt;chr&gt;</th><th scope=col>&lt;chr&gt;</th><th scope=col>&lt;chr&gt;</th><th scope=col>&lt;chr&gt;</th><th scope=col>&lt;chr&gt;</th></tr>\n",
              "</thead>\n",
              "<tbody>\n",
              "\t<tr><th scope=row>3</th><td>私立</td><td>新竹市政府</td><td>財團法人新竹市私立新竹仁愛兒童之家                    </td><td>19880630</td><td>社福字第27159號       </td><td>陳玉焜</td><td>(03)5221574 </td><td>(03)5617208 </td><td>新竹市東區高峰里24鄰高峰路306巷65號</td><td>35 </td><td>http://www.rch.org.tw/          </td><td>247768.89 </td><td>2741398.01 </td><td></td><td>20201103</td></tr>\n",
              "\t<tr><th scope=row>4</th><td>私立</td><td>臺中市政府</td><td>財團法人大甲媽社會福利基金會附設臺中市私立鎮瀾兒童家園</td><td>20081205</td><td>府社幼字第0970359224號</td><td>鄭銘坤</td><td>(04)26763788</td><td>(04)26763755</td><td>臺中市大甲區武曲里1鄰橫圳街163號   </td><td>140</td><td>www.dajiama.org.tw/children_home</td><td>210943.737</td><td>2694543.219</td><td></td><td>20201103</td></tr>\n",
              "\t<tr><th scope=row>5</th><td>私立</td><td>雲林縣政府</td><td>財團法人雲林縣私立信義育幼院                          </td><td>19791216</td><td>社福字第935421號      </td><td>廖使文</td><td>(05)5955836 </td><td>(05)5950026 </td><td>雲林縣斗南鎮將軍里7鄰將軍188號     </td><td>93 </td><td>http://www.xinyi.org.tw/        </td><td>199327.129</td><td>2618623.948</td><td></td><td>20201103</td></tr>\n",
              "\t<tr><th scope=row>6</th><td>私立</td><td>嘉義市政府</td><td>財團法人嘉義市私立修緣育幼院                          </td><td>19960807</td><td>嘉市府社福字第60219號 </td><td>盧宗明</td><td>(05)2355695 </td><td>(05)2865929 </td><td>嘉義市西區西平里10鄰永春二街30號   </td><td>30 </td><td>http://www.showlife.org.tw/     </td><td>191378.747</td><td>2597327.607</td><td></td><td>20201103</td></tr>\n",
              "\t<tr><th scope=row>7</th><td>私立</td><td>臺東縣政府</td><td>財團法人私立臺東基督教阿尼色弗兒童之家                </td><td>19800108</td><td>府民社字第77646號     </td><td>呂立漢</td><td>(089)223194 </td><td>(089)227641 </td><td>臺東縣卑南鄉賓朗村7鄰賓朗路260號   </td><td>80 </td><td>http://www.kidsalive.org.tw/    </td><td>260040.62 </td><td>2522046.85 </td><td></td><td>20201103</td></tr>\n",
              "</tbody>\n",
              "</table>\n"
            ]
          },
          "metadata": {
            "tags": []
          }
        }
      ]
    },
    {
      "cell_type": "code",
      "metadata": {
        "colab": {
          "base_uri": "https://localhost:8080/",
          "height": 69
        },
        "id": "OjdcOHFwV0T3",
        "outputId": "dc787201-4179-428f-a71d-d54a6399395a"
      },
      "source": [
        "table(babydata$`成立日期`)"
      ],
      "execution_count": 8,
      "outputs": [
        {
          "output_type": "display_data",
          "data": {
            "text/plain": [
              "\n",
              "19761231 19791216 19800108 19880630 19960807 20070511 20081205 \n",
              "       1        1        1        1        1        1        1 "
            ]
          },
          "metadata": {
            "tags": []
          }
        }
      ]
    },
    {
      "cell_type": "code",
      "metadata": {
        "colab": {
          "base_uri": "https://localhost:8080/",
          "height": 69
        },
        "id": "DFlPCDa1WAhe",
        "outputId": "cb917f5e-7bea-476d-8bd3-ccd6a6f1b5de"
      },
      "source": [
        "table(babydata$`負責人`)"
      ],
      "execution_count": 9,
      "outputs": [
        {
          "output_type": "display_data",
          "data": {
            "text/plain": [
              "\n",
              "史可堯 呂立漢 廖使文 盧宗明 鄭銘坤 陳玉焜 陳美芳 \n",
              "     1      1      1      1      1      1      1 "
            ]
          },
          "metadata": {
            "tags": []
          }
        }
      ]
    },
    {
      "cell_type": "code",
      "metadata": {
        "colab": {
          "base_uri": "https://localhost:8080/",
          "height": 277
        },
        "id": "L8uxSvhBWPIF",
        "outputId": "ffbf79a1-14a8-4621-a64e-8b9982c8d115"
      },
      "source": [
        "table(babydata$`地址`)"
      ],
      "execution_count": 10,
      "outputs": [
        {
          "output_type": "display_data",
          "data": {
            "text/plain": [
              "\n",
              "            嘉義市西區西平里10鄰永春二街30號 \n",
              "                                           1 \n",
              "基隆市安樂區興寮里16鄰基金一路112巷110弄14號 \n",
              "                                           1 \n",
              "      宜蘭縣冬山鄉得安村5鄰大埤二路189巷36號 \n",
              "                                           1 \n",
              "         新竹市東區高峰里24鄰高峰路306巷65號 \n",
              "                                           1 \n",
              "            臺中市大甲區武曲里1鄰橫圳街163號 \n",
              "                                           1 \n",
              "            臺東縣卑南鄉賓朗村7鄰賓朗路260號 \n",
              "                                           1 \n",
              "              雲林縣斗南鎮將軍里7鄰將軍188號 \n",
              "                                           1 "
            ]
          },
          "metadata": {
            "tags": []
          }
        }
      ]
    },
    {
      "cell_type": "code",
      "metadata": {
        "colab": {
          "base_uri": "https://localhost:8080/",
          "height": 104
        },
        "id": "qQMwY1QaW5xS",
        "outputId": "f4a505ed-af04-4fd4-ee8b-5fa12e8033ee"
      },
      "source": [
        "table(babydata$`連絡電話`)"
      ],
      "execution_count": 11,
      "outputs": [
        {
          "output_type": "display_data",
          "data": {
            "text/plain": [
              "\n",
              "(02)34010560  (03)5221574  (03)9514652 (04)26763788  (05)2355695  (05)5955836 \n",
              "           1            1            1            1            1            1 \n",
              " (089)223194 \n",
              "           1 "
            ]
          },
          "metadata": {
            "tags": []
          }
        }
      ]
    }
  ]
}